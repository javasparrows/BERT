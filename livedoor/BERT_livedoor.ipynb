{
 "cells": [
  {
   "cell_type": "markdown",
   "metadata": {},
   "source": [
    "https://qiita.com/sugulu_Ogawa_ISID/items/697bd03499c1de9cf082\n",
    "を参考にさせていただきました"
   ]
  },
  {
   "cell_type": "code",
   "execution_count": 3,
   "metadata": {},
   "outputs": [],
   "source": [
    "# Livedoorニュースのファイルをダウンロード\n",
    "# !wget \"https://www.rondhuit.com/download/ldcc-20140209.tar.gz\""
   ]
  },
  {
   "cell_type": "code",
   "execution_count": 4,
   "metadata": {},
   "outputs": [
    {
     "name": "stdout",
     "output_type": "stream",
     "text": [
      "['dokujo-tsushin', 'kaden-channel', 'it-life-hack', 'topic-news', 'smax', 'README.txt', 'livedoor-homme', 'sports-watch', 'peachy', 'movie-enter', 'CHANGES.txt']\n",
      "カテゴリー数: 9\n",
      "['dokujo-tsushin', 'kaden-channel', 'it-life-hack', 'topic-news', 'smax', 'livedoor-homme', 'sports-watch', 'peachy', 'movie-enter']\n"
     ]
    }
   ],
   "source": [
    "# ファイルを解凍し、カテゴリー数と内容を確認\n",
    "import tarfile\n",
    "import os\n",
    "\n",
    "# 解凍\n",
    "tar = tarfile.open(\"ldcc-20140209.tar.gz\", \"r:gz\")\n",
    "tar.extractall(\"./data/livedoor/\")\n",
    "tar.close()\n",
    "\n",
    "# フォルダのファイルとディレクトリを確認\n",
    "files_folders = [name for name in os.listdir(\"./data/livedoor/text/\")]\n",
    "print(files_folders)\n",
    "\n",
    "# カテゴリーのフォルダのみを抽出\n",
    "categories = [name for name in os.listdir(\n",
    "    \"./data/livedoor/text/\") if os.path.isdir(\"./data/livedoor/text/\"+name)]\n",
    "\n",
    "print(\"カテゴリー数:\", len(categories))\n",
    "print(categories)"
   ]
  },
  {
   "cell_type": "code",
   "execution_count": 5,
   "metadata": {},
   "outputs": [
    {
     "name": "stdout",
     "output_type": "stream",
     "text": [
      "0： http://news.livedoor.com/article/detail/6255260/\n",
      "\n",
      "1： 2012-02-07T09:00:00+0900\n",
      "\n",
      "2： 新しいヴァンパイアが誕生！　ジョニデ主演『ダーク・シャドウ』の公開日が決定\n",
      "\n",
      "3： 　こんなヴァンパイアは見たことがない！　ジョニー・デップとティム・バートン監督がタッグを組んだ映画『ダーク・シャドウズ（原題）』の邦題が『ダーク・シャドウ』に決定。日本公開日が5月19日に決まった。さらに、ジョニー・デップ演じるヴァンパイアの写真が公開された。\n",
      "\n"
     ]
    }
   ],
   "source": [
    "# ファイルの中身を確認してみる\n",
    "file_name = \"./data/livedoor/text/movie-enter/movie-enter-6255260.txt\"\n",
    "\n",
    "with open(file_name) as text_file:\n",
    "    text = text_file.readlines()\n",
    "    print(\"0：\", text[0])  # URL情報\n",
    "    print(\"1：\", text[1])  # タイムスタンプ\n",
    "    print(\"2：\", text[2])  # タイトル\n",
    "    print(\"3：\", text[3])  # 本文\n",
    "\n",
    "    # 今回は4要素目には本文は伸びていないが、4要素目以降に本文がある場合もある"
   ]
  },
  {
   "cell_type": "code",
   "execution_count": 6,
   "metadata": {},
   "outputs": [],
   "source": [
    "# 本文を取得する前処理関数を定義\n",
    "\n",
    "def extract_main_txt(file_name):\n",
    "    with open(file_name) as text_file:\n",
    "        # 今回はタイトル行は外したいので、3要素目以降の本文のみ使用\n",
    "        text = text_file.readlines()[3:]\n",
    "\n",
    "        # 3要素目以降にも本文が入っている場合があるので、リストにして、後で結合させる\n",
    "        text = [sentence.strip() for sentence in text]  # 空白文字(スペースやタブ、改行)の削除\n",
    "        text = list(filter(lambda line: line != '', text))\n",
    "        text = ''.join(text)\n",
    "        text = text.translate(str.maketrans(\n",
    "            {'\\n': '', '\\t': '', '\\r': '', '\\u3000': ''}))  # 改行やタブ、全角スペースを消す\n",
    "        return text"
   ]
  },
  {
   "cell_type": "code",
   "execution_count": 7,
   "metadata": {},
   "outputs": [],
   "source": [
    "# リストに前処理した本文と、カテゴリーのラベルを追加していく\n",
    "import glob\n",
    "\n",
    "list_text = []\n",
    "list_label = []\n",
    "\n",
    "for cat in categories:\n",
    "    text_files = glob.glob(os.path.join(\"./data/livedoor/text\", cat, \"*.txt\"))\n",
    "\n",
    "    # 前処理extract_main_txtを実施して本文を取得\n",
    "    body = [extract_main_txt(text_file) for text_file in text_files]\n",
    "\n",
    "    label = [cat] * len(body)  # bodyの数文だけカテゴリー名のラベルのリストを作成\n",
    "\n",
    "    list_text.extend(body)  # appendが要素を追加するのに対して、extendはリストごと追加する\n",
    "    list_label.extend(label)"
   ]
  },
  {
   "cell_type": "code",
   "execution_count": 12,
   "metadata": {},
   "outputs": [
    {
     "name": "stdout",
     "output_type": "stream",
     "text": [
      "7376\n",
      "7376\n"
     ]
    }
   ],
   "source": [
    "print(len(list_text))\n",
    "print(len(list_label))"
   ]
  },
  {
   "cell_type": "code",
   "execution_count": 13,
   "metadata": {},
   "outputs": [
    {
     "name": "stdout",
     "output_type": "stream",
     "text": [
      "今年もクリスマスが近い。楽しみでもあり頭を悩ませるのは大好きな人へのプレゼント選びだ。何をあげたら喜んでくれるか、何をもらったら嬉しいかは、恋愛年数や2人の親密度によっても異なるだろうが、一緒に暮らしているカップルはどんなプレゼントが嬉しいのか、結婚歴10年以上の夫婦に聞いてみた。「出所は一緒なので、誕生日などはその時ほしいものがあれば買ってもらうし、クリスマスでもこれといってプレゼント交換もしないんですけど」と言いながら、夫から一度だけサプライズ的なプレゼントをもらったことがあるという結婚歴11年のマコさん（39歳）。品物は某メーカーの基礎化粧品。「使ってみたくても高くてなかなか手が出せない商品だったので、いつもテレビCMを見ては「これってお肌にいいんだってさ」とぼやいていたんです。でもまさか夫がそれを買ってくれるとは」ものすごく嬉しかったが、使い終われば、またいつもの安価な基礎化粧品に戻すはめに。それでもわざわざ化粧品売り場まで買いにいってくれた夫には感動したそうだ。結婚歴20年。二人の子供がいる桃子さん（45歳）の一番嬉しかったクリスマスプレゼントは『エマ』というコミック全巻。朝起きたら、子ども用のプレゼントと一緒にソファの上に。思わず飛び上がったそうだ。桃子さんから夫へのプレゼントはいつもカジュアルな洋服。「夫は自分で服を買わない人なので、私好みの服で私好みの男にしています」と幸せそうな笑みを浮かべる桃子さんは、クリスマス以外で夫からもらった最高に嬉しかったプレゼントがあるという。「高いものではないんですけど、私の好みのデザインで、今もずっと愛用しています」品物は腕時計。7年前に義父が亡くなったときに、葬儀やその後の事務的なことも含め桃子さんが頑張ったことへのねぎらいとして夫から贈られたものだ。「実は義父の葬儀は気苦労も多く、自分的には大変な葬儀だったので、それを夫が理解してくれていたことが分かって本当に嬉しかったんです」感謝やねぎらいも形にしないと伝わらない場合が多い。記念日以外のこうしたプレゼントは、夫婦に限らず、人間関係を円滑にする手段にもなりそうだ。結婚歴27年の洋子さん（50歳）にも10年以上愛用している夫からのプレゼントがある。モンブランの万年筆だ。万年筆は書き癖があるので夫と一緒に選んだそうだが、その時、夫がこっそり名前入りの手帳を注文してくれていて、思いがけない嬉しいサプライズになったという。夫婦っていいなと思う話ばかりが続くが、結婚歴38年。独身時代は写真が趣味だった義男さん（62歳）は、小遣いをためて憧れの一眼レフ「ペンタックスII」を買った。一番グレードの低いカメラだったが、ファインダーを覗いた時の興奮は今も覚えているという。その後、結婚して奥さんから同じ「ペンタックス」のSPという一番高級グレードのカメラをプレゼントしてもらったそうだ。「嬉しいなんてものではありませんでしたよ」そのカメラがきっかけで、義男さんはカメラの仕事を始め、現在はプロカメラマンとして活躍している。「好きなことが仕事になったのも妻のおかげです」とにっこり。夫婦は一緒に生活をしているから、相手が何を欲しいかは分かりやすいだろう。とはいっても相手に関心がなければ欲しいものなど分からない。お互いが何を欲しがっているのかが瞬時に分かるのが、理想の夫婦には違いないが、基礎化粧品のテレビCMを見ては「これいいんだってさ〜」とぼやく妻のために、化粧品売り場に足を運ぶのは、相手を思う心がなければできないことだ。コミック全巻も万年筆もカメラも、相手を大切に思う心がなければ選べない品物ばかりだ。クリスマスが近づくと、プレゼント人気ランキングとか品物にばかり関心がいくか、一番大切なのは相手を思う心であり、高価な品物より、あなたにしかできない心遣いが相手に伝わることが、最高のプレゼントになるのではないだろうか。（オフィスエムツー／佐枝せつこ）\n",
      "\n",
      "dokujo-tsushin\n"
     ]
    }
   ],
   "source": [
    "# 0番目の文章とラベルを確認\n",
    "print(list_text[0])\n",
    "print()\n",
    "print(list_label[0])"
   ]
  },
  {
   "cell_type": "code",
   "execution_count": 14,
   "metadata": {},
   "outputs": [
    {
     "name": "stdout",
     "output_type": "stream",
     "text": [
      "(7376, 2)\n"
     ]
    },
    {
     "data": {
      "text/html": [
       "<div>\n",
       "<style scoped>\n",
       "    .dataframe tbody tr th:only-of-type {\n",
       "        vertical-align: middle;\n",
       "    }\n",
       "\n",
       "    .dataframe tbody tr th {\n",
       "        vertical-align: top;\n",
       "    }\n",
       "\n",
       "    .dataframe thead th {\n",
       "        text-align: right;\n",
       "    }\n",
       "</style>\n",
       "<table border=\"1\" class=\"dataframe\">\n",
       "  <thead>\n",
       "    <tr style=\"text-align: right;\">\n",
       "      <th></th>\n",
       "      <th>text</th>\n",
       "      <th>label</th>\n",
       "    </tr>\n",
       "  </thead>\n",
       "  <tbody>\n",
       "    <tr>\n",
       "      <th>0</th>\n",
       "      <td>今年もクリスマスが近い。楽しみでもあり頭を悩ませるのは大好きな人へのプレゼント選びだ。何をあ...</td>\n",
       "      <td>dokujo-tsushin</td>\n",
       "    </tr>\n",
       "    <tr>\n",
       "      <th>1</th>\n",
       "      <td>女の子の節句「ひな祭り」。バレンタインデー、ホワイトデーよりも忘れられがちだが、立派な日本の...</td>\n",
       "      <td>dokujo-tsushin</td>\n",
       "    </tr>\n",
       "    <tr>\n",
       "      <th>2</th>\n",
       "      <td>『あなたはどんな人物？』『何を目指している？』『あなたにとって一番大切なものは何？』庶民であ...</td>\n",
       "      <td>dokujo-tsushin</td>\n",
       "    </tr>\n",
       "    <tr>\n",
       "      <th>3</th>\n",
       "      <td>日本人の死因のトップである、がん。ひとことで言えば悪性の腫瘍で、いろんな種類のがんがあるんだ...</td>\n",
       "      <td>dokujo-tsushin</td>\n",
       "    </tr>\n",
       "    <tr>\n",
       "      <th>4</th>\n",
       "      <td>独女編集部、独女代表Mです。韓国では、天安艦事件が起こり物々しい雰囲気に包まれていますが、日...</td>\n",
       "      <td>dokujo-tsushin</td>\n",
       "    </tr>\n",
       "  </tbody>\n",
       "</table>\n",
       "</div>"
      ],
      "text/plain": [
       "                                                text           label\n",
       "0  今年もクリスマスが近い。楽しみでもあり頭を悩ませるのは大好きな人へのプレゼント選びだ。何をあ...  dokujo-tsushin\n",
       "1  女の子の節句「ひな祭り」。バレンタインデー、ホワイトデーよりも忘れられがちだが、立派な日本の...  dokujo-tsushin\n",
       "2  『あなたはどんな人物？』『何を目指している？』『あなたにとって一番大切なものは何？』庶民であ...  dokujo-tsushin\n",
       "3  日本人の死因のトップである、がん。ひとことで言えば悪性の腫瘍で、いろんな種類のがんがあるんだ...  dokujo-tsushin\n",
       "4  独女編集部、独女代表Mです。韓国では、天安艦事件が起こり物々しい雰囲気に包まれていますが、日...  dokujo-tsushin"
      ]
     },
     "execution_count": 14,
     "metadata": {},
     "output_type": "execute_result"
    }
   ],
   "source": [
    "# pandasのDataFrameにする\n",
    "import pandas as pd\n",
    "\n",
    "df = pd.DataFrame({'text': list_text, 'label': list_label})\n",
    "\n",
    "# 大きさを確認しておく（7,376文章が存在）\n",
    "print(df.shape)\n",
    "\n",
    "df.head()"
   ]
  },
  {
   "cell_type": "code",
   "execution_count": 15,
   "metadata": {},
   "outputs": [
    {
     "name": "stdout",
     "output_type": "stream",
     "text": [
      "{0: 'dokujo-tsushin', 1: 'kaden-channel', 2: 'it-life-hack', 3: 'topic-news', 4: 'smax', 5: 'livedoor-homme', 6: 'sports-watch', 7: 'peachy', 8: 'movie-enter'}\n",
      "{'dokujo-tsushin': 0, 'kaden-channel': 1, 'it-life-hack': 2, 'topic-news': 3, 'smax': 4, 'livedoor-homme': 5, 'sports-watch': 6, 'peachy': 7, 'movie-enter': 8}\n"
     ]
    },
    {
     "data": {
      "text/html": [
       "<div>\n",
       "<style scoped>\n",
       "    .dataframe tbody tr th:only-of-type {\n",
       "        vertical-align: middle;\n",
       "    }\n",
       "\n",
       "    .dataframe tbody tr th {\n",
       "        vertical-align: top;\n",
       "    }\n",
       "\n",
       "    .dataframe thead th {\n",
       "        text-align: right;\n",
       "    }\n",
       "</style>\n",
       "<table border=\"1\" class=\"dataframe\">\n",
       "  <thead>\n",
       "    <tr style=\"text-align: right;\">\n",
       "      <th></th>\n",
       "      <th>text</th>\n",
       "      <th>label_index</th>\n",
       "    </tr>\n",
       "  </thead>\n",
       "  <tbody>\n",
       "    <tr>\n",
       "      <th>0</th>\n",
       "      <td>今年もクリスマスが近い。楽しみでもあり頭を悩ませるのは大好きな人へのプレゼント選びだ。何をあ...</td>\n",
       "      <td>0</td>\n",
       "    </tr>\n",
       "    <tr>\n",
       "      <th>1</th>\n",
       "      <td>女の子の節句「ひな祭り」。バレンタインデー、ホワイトデーよりも忘れられがちだが、立派な日本の...</td>\n",
       "      <td>0</td>\n",
       "    </tr>\n",
       "    <tr>\n",
       "      <th>2</th>\n",
       "      <td>『あなたはどんな人物？』『何を目指している？』『あなたにとって一番大切なものは何？』庶民であ...</td>\n",
       "      <td>0</td>\n",
       "    </tr>\n",
       "    <tr>\n",
       "      <th>3</th>\n",
       "      <td>日本人の死因のトップである、がん。ひとことで言えば悪性の腫瘍で、いろんな種類のがんがあるんだ...</td>\n",
       "      <td>0</td>\n",
       "    </tr>\n",
       "    <tr>\n",
       "      <th>4</th>\n",
       "      <td>独女編集部、独女代表Mです。韓国では、天安艦事件が起こり物々しい雰囲気に包まれていますが、日...</td>\n",
       "      <td>0</td>\n",
       "    </tr>\n",
       "  </tbody>\n",
       "</table>\n",
       "</div>"
      ],
      "text/plain": [
       "                                                text  label_index\n",
       "0  今年もクリスマスが近い。楽しみでもあり頭を悩ませるのは大好きな人へのプレゼント選びだ。何をあ...            0\n",
       "1  女の子の節句「ひな祭り」。バレンタインデー、ホワイトデーよりも忘れられがちだが、立派な日本の...            0\n",
       "2  『あなたはどんな人物？』『何を目指している？』『あなたにとって一番大切なものは何？』庶民であ...            0\n",
       "3  日本人の死因のトップである、がん。ひとことで言えば悪性の腫瘍で、いろんな種類のがんがあるんだ...            0\n",
       "4  独女編集部、独女代表Mです。韓国では、天安艦事件が起こり物々しい雰囲気に包まれていますが、日...            0"
      ]
     },
     "execution_count": 15,
     "metadata": {},
     "output_type": "execute_result"
    }
   ],
   "source": [
    "# カテゴリーの辞書を作成\n",
    "dic_id2cat = dict(zip(list(range(len(categories))), categories))\n",
    "dic_cat2id = dict(zip(categories, list(range(len(categories)))))\n",
    "\n",
    "print(dic_id2cat)\n",
    "print(dic_cat2id)\n",
    "\n",
    "# DataFrameにカテゴリーindexの列を作成\n",
    "df[\"label_index\"] = df[\"label\"].map(dic_cat2id)\n",
    "df.head()\n",
    "\n",
    "# label列を消去し、text, indexの順番にする\n",
    "df = df.loc[:, [\"text\", \"label_index\"]]\n",
    "df.head()"
   ]
  },
  {
   "cell_type": "code",
   "execution_count": 17,
   "metadata": {},
   "outputs": [
    {
     "data": {
      "text/html": [
       "<div>\n",
       "<style scoped>\n",
       "    .dataframe tbody tr th:only-of-type {\n",
       "        vertical-align: middle;\n",
       "    }\n",
       "\n",
       "    .dataframe tbody tr th {\n",
       "        vertical-align: top;\n",
       "    }\n",
       "\n",
       "    .dataframe thead th {\n",
       "        text-align: right;\n",
       "    }\n",
       "</style>\n",
       "<table border=\"1\" class=\"dataframe\">\n",
       "  <thead>\n",
       "    <tr style=\"text-align: right;\">\n",
       "      <th></th>\n",
       "      <th>text</th>\n",
       "      <th>label_index</th>\n",
       "    </tr>\n",
       "  </thead>\n",
       "  <tbody>\n",
       "    <tr>\n",
       "      <th>0</th>\n",
       "      <td>U-20女子ワールドカップも後半に入り、「ヤングなでしこ」こと日本のU-20女子代表チームの...</td>\n",
       "      <td>6</td>\n",
       "    </tr>\n",
       "    <tr>\n",
       "      <th>1</th>\n",
       "      <td>時に熱い言葉を発し、時に野球に関する議論を交わしながらも、時にはファンにしっかりと反論する。...</td>\n",
       "      <td>6</td>\n",
       "    </tr>\n",
       "    <tr>\n",
       "      <th>2</th>\n",
       "      <td>5日放送「ダウンタウンDX」（読売テレビ）には、ハロー！プロジェクトのプロデューサー＝つんく...</td>\n",
       "      <td>3</td>\n",
       "    </tr>\n",
       "    <tr>\n",
       "      <th>3</th>\n",
       "      <td>フジテレビ「とくダネ！」（1日放送分）には、アジアカップを制した日本代表の岩政大樹、伊野波雅...</td>\n",
       "      <td>6</td>\n",
       "    </tr>\n",
       "    <tr>\n",
       "      <th>4</th>\n",
       "      <td>MEDIAS X N-07Dの画面キャプチャの方法を紹介！本日13日（金）にNTTドコモから...</td>\n",
       "      <td>4</td>\n",
       "    </tr>\n",
       "  </tbody>\n",
       "</table>\n",
       "</div>"
      ],
      "text/plain": [
       "                                                text  label_index\n",
       "0  U-20女子ワールドカップも後半に入り、「ヤングなでしこ」こと日本のU-20女子代表チームの...            6\n",
       "1  時に熱い言葉を発し、時に野球に関する議論を交わしながらも、時にはファンにしっかりと反論する。...            6\n",
       "2  5日放送「ダウンタウンDX」（読売テレビ）には、ハロー！プロジェクトのプロデューサー＝つんく...            3\n",
       "3  フジテレビ「とくダネ！」（1日放送分）には、アジアカップを制した日本代表の岩政大樹、伊野波雅...            6\n",
       "4  MEDIAS X N-07Dの画面キャプチャの方法を紹介！本日13日（金）にNTTドコモから...            4"
      ]
     },
     "execution_count": 17,
     "metadata": {},
     "output_type": "execute_result"
    }
   ],
   "source": [
    "# 順番をシャッフルする\n",
    "df = df.sample(frac=1, random_state=123).reset_index(drop=True)\n",
    "df.head()"
   ]
  },
  {
   "cell_type": "code",
   "execution_count": 18,
   "metadata": {},
   "outputs": [
    {
     "name": "stdout",
     "output_type": "stream",
     "text": [
      "(1475, 2)\n",
      "(5901, 2)\n"
     ]
    }
   ],
   "source": [
    "# tsvファイルで保存する\n",
    "\n",
    "# 全体の2割の文章数\n",
    "len_0_2 = len(df) // 5\n",
    "\n",
    "# 前から2割をテストデータとする\n",
    "df[:len_0_2].to_csv(\"./test.tsv\", sep='\\t', index=False, header=None)\n",
    "print(df[:len_0_2].shape)\n",
    "\n",
    "# 前2割からを訓練&検証データとする\n",
    "df[len_0_2:].to_csv(\"./train_eval.tsv\", sep='\\t', index=False, header=None)\n",
    "print(df[len_0_2:].shape)"
   ]
  },
  {
   "cell_type": "code",
   "execution_count": null,
   "metadata": {},
   "outputs": [],
   "source": []
  }
 ],
 "metadata": {
  "kernelspec": {
   "display_name": "Python 3",
   "language": "python",
   "name": "python3"
  },
  "language_info": {
   "codemirror_mode": {
    "name": "ipython",
    "version": 3
   },
   "file_extension": ".py",
   "mimetype": "text/x-python",
   "name": "python",
   "nbconvert_exporter": "python",
   "pygments_lexer": "ipython3",
   "version": "3.6.5"
  }
 },
 "nbformat": 4,
 "nbformat_minor": 4
}
